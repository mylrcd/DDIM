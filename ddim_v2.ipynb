{
  "cells": [
    {
      "cell_type": "code",
      "execution_count": 1,
      "metadata": {},
      "outputs": [
        {
          "name": "stdout",
          "output_type": "stream",
          "text": [
            "2.5.1+cu124\n"
          ]
        }
      ],
      "source": [
        "import torch\n",
        "print(torch.__version__)\n",
        "\n",
        "import math\n",
        "import matplotlib.pyplot as plt\n",
        "import torchvision.datasets as datasets\n",
        "import torch.nn as nn\n",
        "import torch.nn.functional as F\n",
        "\n",
        "from tqdm import tqdm\n",
        "from torch.utils.data import random_split, DataLoader\n",
        "from torchvision import transforms\n",
        "from torch.optim import Adam\n",
        "\n",
        "from ddim import visualize_dataset, visualize_diffusion_step, sample_plot_image\n",
        "from ddim import UNet\n",
        "from ddim import loss_function, q_sample, p_sample\n",
        "\n",
        "device = \"cuda\" if torch.cuda.is_available() else \"cpu\"\n",
        "\n",
        "import warnings\n",
        "warnings.filterwarnings('ignore')\n"
      ]
    },
    {
      "cell_type": "markdown",
      "metadata": {
        "id": "PnSKXyL7kqEp"
      },
      "source": [
        "## Import & Normalize MNIST"
      ]
    },
    {
      "cell_type": "code",
      "execution_count": 2,
      "metadata": {
        "id": "cPy_qNMIkqEs"
      },
      "outputs": [],
      "source": [
        "to_tensor = transforms.ToTensor()\n",
        "\n",
        "normalize_transform = transforms.Compose([\n",
        "    to_tensor,\n",
        "    transforms.Normalize((0.1307,), (0.3081,))\n",
        "])"
      ]
    },
    {
      "cell_type": "code",
      "execution_count": 3,
      "metadata": {},
      "outputs": [],
      "source": [
        "\n",
        "normalize_transform = transforms.Compose([\n",
        "    transforms.ToTensor(),                 # Convertit l'image [0,1]\n",
        "    transforms.Lambda(lambda x: x * 2 - 1) # Convertit [0,1] -> [-1,1]\n",
        "])\n"
      ]
    },
    {
      "cell_type": "code",
      "execution_count": 4,
      "metadata": {
        "id": "reB912bPkqEt"
      },
      "outputs": [],
      "source": [
        "mnist_trainset = datasets.MNIST(root='./data', train= True, download=True, transform=normalize_transform)\n",
        "mnist_testset = datasets.MNIST(root='./data', train=False, download=True, transform=normalize_transform)\n",
        "\n",
        "train_size = int(0.8 * len(mnist_trainset))\n",
        "val_size = len(mnist_trainset) - train_size\n",
        "\n",
        "mnist_trainset, mnist_valset = random_split(mnist_trainset, [train_size, val_size])"
      ]
    },
    {
      "cell_type": "code",
      "execution_count": 7,
      "metadata": {},
      "outputs": [
        {
          "data": {
            "text/plain": [
              "tensor([[[-1.0000, -1.0000, -1.0000, -1.0000, -1.0000, -1.0000, -1.0000,\n",
              "          -1.0000, -1.0000, -1.0000, -1.0000, -1.0000, -1.0000, -1.0000,\n",
              "          -1.0000, -1.0000, -1.0000, -1.0000, -1.0000, -1.0000, -1.0000,\n",
              "          -1.0000, -1.0000, -1.0000, -1.0000, -1.0000, -1.0000, -1.0000],\n",
              "         [-1.0000, -1.0000, -1.0000, -1.0000, -1.0000, -1.0000, -1.0000,\n",
              "          -1.0000, -1.0000, -1.0000, -1.0000, -1.0000, -1.0000, -1.0000,\n",
              "          -1.0000, -1.0000, -1.0000, -1.0000, -1.0000, -1.0000, -1.0000,\n",
              "          -1.0000, -1.0000, -1.0000, -1.0000, -1.0000, -1.0000, -1.0000],\n",
              "         [-1.0000, -1.0000, -1.0000, -1.0000, -1.0000, -1.0000, -1.0000,\n",
              "          -1.0000, -1.0000, -1.0000, -1.0000, -1.0000, -1.0000, -1.0000,\n",
              "          -1.0000, -1.0000, -1.0000, -1.0000, -1.0000, -1.0000, -1.0000,\n",
              "          -1.0000, -1.0000, -1.0000, -1.0000, -1.0000, -1.0000, -1.0000],\n",
              "         [-1.0000, -1.0000, -1.0000, -1.0000, -1.0000, -1.0000, -1.0000,\n",
              "          -1.0000, -1.0000, -1.0000, -1.0000, -1.0000, -1.0000, -1.0000,\n",
              "          -1.0000, -1.0000, -1.0000, -1.0000, -1.0000, -1.0000, -1.0000,\n",
              "          -1.0000, -1.0000, -1.0000, -1.0000, -1.0000, -1.0000, -1.0000],\n",
              "         [-1.0000, -1.0000, -1.0000, -1.0000, -1.0000, -1.0000, -1.0000,\n",
              "          -1.0000, -1.0000, -0.9922, -0.9451, -0.9451, -0.3020,  0.2157,\n",
              "           0.9922,  0.9922,  0.9922, -0.0510, -0.9843, -1.0000, -1.0000,\n",
              "          -1.0000, -1.0000, -1.0000, -1.0000, -1.0000, -1.0000, -1.0000],\n",
              "         [-1.0000, -1.0000, -1.0000, -1.0000, -1.0000, -1.0000, -1.0000,\n",
              "          -1.0000, -1.0000, -0.8039,  0.9843,  0.9843,  0.9843,  0.9843,\n",
              "           0.9373,  0.9843,  0.9843,  0.9843, -0.5686, -1.0000, -1.0000,\n",
              "          -1.0000, -1.0000, -1.0000, -1.0000, -1.0000, -1.0000, -1.0000],\n",
              "         [-1.0000, -1.0000, -1.0000, -1.0000, -1.0000, -1.0000, -1.0000,\n",
              "          -1.0000, -0.8431,  0.2000,  0.9843,  0.9843,  0.9608,  0.6471,\n",
              "          -0.5529,  0.1373,  0.9843,  0.9843,  0.3490, -1.0000, -1.0000,\n",
              "          -1.0000, -1.0000, -1.0000, -1.0000, -1.0000, -1.0000, -1.0000],\n",
              "         [-1.0000, -1.0000, -1.0000, -1.0000, -1.0000, -1.0000, -1.0000,\n",
              "          -1.0000,  0.1216,  0.9843,  0.9843,  0.9608,  0.0039, -1.0000,\n",
              "          -1.0000, -0.7961,  0.6078,  0.9843,  0.3490, -1.0000, -1.0000,\n",
              "          -1.0000, -1.0000, -1.0000, -1.0000, -1.0000, -1.0000, -1.0000],\n",
              "         [-1.0000, -1.0000, -1.0000, -1.0000, -1.0000, -1.0000, -1.0000,\n",
              "          -1.0000,  0.1216,  0.9843,  0.8353, -0.3412, -1.0000, -1.0000,\n",
              "          -1.0000, -1.0000, -0.4588,  0.9843,  0.3490, -1.0000, -1.0000,\n",
              "          -1.0000, -1.0000, -1.0000, -1.0000, -1.0000, -1.0000, -1.0000],\n",
              "         [-1.0000, -1.0000, -1.0000, -1.0000, -1.0000, -1.0000, -1.0000,\n",
              "          -1.0000, -0.5137,  0.6941,  0.0039, -1.0000, -1.0000, -1.0000,\n",
              "          -1.0000, -1.0000,  0.1529,  0.9843,  0.3490, -1.0000, -1.0000,\n",
              "          -1.0000, -1.0000, -1.0000, -1.0000, -1.0000, -1.0000, -1.0000],\n",
              "         [-1.0000, -1.0000, -1.0000, -1.0000, -1.0000, -1.0000, -1.0000,\n",
              "          -1.0000, -1.0000, -1.0000, -1.0000, -1.0000, -1.0000, -1.0000,\n",
              "          -1.0000, -0.6706,  0.8275,  0.9843,  0.3490, -1.0000, -1.0000,\n",
              "          -1.0000, -1.0000, -1.0000, -1.0000, -1.0000, -1.0000, -1.0000],\n",
              "         [-1.0000, -1.0000, -1.0000, -1.0000, -1.0000, -1.0000, -1.0000,\n",
              "          -1.0000, -1.0000, -1.0000, -1.0000, -1.0000, -1.0000, -1.0000,\n",
              "          -1.0000, -0.5059,  0.9843,  0.9843,  0.3490, -1.0000, -1.0000,\n",
              "          -1.0000, -1.0000, -1.0000, -1.0000, -1.0000, -1.0000, -1.0000],\n",
              "         [-1.0000, -1.0000, -1.0000, -1.0000, -1.0000, -1.0000, -1.0000,\n",
              "          -1.0000, -1.0000, -1.0000, -1.0000, -1.0000, -1.0000, -1.0000,\n",
              "          -1.0000, -0.2941,  0.9843,  0.9843, -0.3333, -1.0000, -1.0000,\n",
              "          -1.0000, -1.0000, -1.0000, -1.0000, -1.0000, -1.0000, -1.0000],\n",
              "         [-1.0000, -1.0000, -1.0000, -1.0000, -1.0000, -1.0000, -1.0000,\n",
              "          -1.0000, -1.0000, -1.0000, -1.0000, -1.0000, -1.0000, -1.0000,\n",
              "          -0.8902,  0.5922,  0.9843,  0.5529, -0.8980, -1.0000, -1.0000,\n",
              "          -1.0000, -1.0000, -1.0000, -1.0000, -1.0000, -1.0000, -1.0000],\n",
              "         [-1.0000, -1.0000, -1.0000, -1.0000, -1.0000, -1.0000, -1.0000,\n",
              "          -1.0000, -1.0000, -1.0000, -1.0000, -1.0000, -1.0000, -0.8902,\n",
              "           0.3333,  0.9843,  0.9843, -0.3333, -1.0000, -1.0000, -1.0000,\n",
              "          -1.0000, -1.0000, -1.0000, -1.0000, -1.0000, -1.0000, -1.0000],\n",
              "         [-1.0000, -1.0000, -1.0000, -1.0000, -1.0000, -1.0000, -1.0000,\n",
              "          -1.0000, -1.0000, -1.0000, -1.0000, -1.0000, -0.8980,  0.3333,\n",
              "           0.9843,  0.9843,  0.2784, -0.9059, -1.0000, -1.0000, -1.0000,\n",
              "          -1.0000, -1.0000, -1.0000, -1.0000, -1.0000, -1.0000, -1.0000],\n",
              "         [-1.0000, -1.0000, -1.0000, -1.0000, -1.0000, -1.0000, -1.0000,\n",
              "          -1.0000, -1.0000, -1.0000, -1.0000, -1.0000, -0.3412,  0.9843,\n",
              "           0.9843,  0.5922, -0.9059, -1.0000, -1.0000, -1.0000, -1.0000,\n",
              "          -1.0000, -1.0000, -1.0000, -1.0000, -1.0000, -1.0000, -1.0000],\n",
              "         [-1.0000, -1.0000, -1.0000, -1.0000, -1.0000, -1.0000, -1.0000,\n",
              "          -1.0000, -1.0000, -1.0000, -1.0000, -0.4196,  0.8745,  0.9843,\n",
              "           0.9843,  0.0196, -1.0000, -1.0000, -1.0000, -1.0000, -1.0000,\n",
              "          -1.0000, -1.0000, -1.0000, -1.0000, -1.0000, -1.0000, -1.0000],\n",
              "         [-1.0000, -1.0000, -1.0000, -1.0000, -1.0000, -1.0000, -1.0000,\n",
              "          -1.0000, -1.0000, -1.0000, -0.4275,  0.8824,  0.9843,  0.9843,\n",
              "           0.9843,  0.9137,  0.7020,  0.7020,  0.3961, -0.5137, -1.0000,\n",
              "          -1.0000, -1.0000, -1.0000, -1.0000, -1.0000, -1.0000, -1.0000],\n",
              "         [-1.0000, -1.0000, -1.0000, -1.0000, -1.0000, -1.0000, -1.0000,\n",
              "          -1.0000, -0.4824,  0.7490,  0.8980,  0.9843,  0.9843,  0.9843,\n",
              "           0.9843,  0.9843,  0.9843,  0.9843,  0.9843,  0.9059,  0.7490,\n",
              "          -0.4039, -1.0000, -1.0000, -1.0000, -1.0000, -1.0000, -1.0000],\n",
              "         [-1.0000, -1.0000, -1.0000, -1.0000, -1.0000, -1.0000, -1.0000,\n",
              "          -0.4980,  0.9059,  0.9843,  0.9843,  0.9843,  0.8431,  0.1608,\n",
              "           0.1608,  0.1608,  0.1608,  0.1608,  0.8275,  0.9843,  0.9843,\n",
              "           0.9137,  0.3961, -0.9373, -1.0000, -1.0000, -1.0000, -1.0000],\n",
              "         [-1.0000, -1.0000, -1.0000, -1.0000, -1.0000, -1.0000, -0.5216,\n",
              "           0.9216,  0.9843,  0.9843,  0.9843,  0.2863, -0.8824, -1.0000,\n",
              "          -1.0000, -1.0000, -1.0000, -1.0000, -0.8824, -0.8588, -0.0196,\n",
              "           0.8824,  0.9843,  0.8588, -0.4824, -1.0000, -1.0000, -1.0000],\n",
              "         [-1.0000, -1.0000, -1.0000, -1.0000, -1.0000, -1.0000,  0.0196,\n",
              "           0.9843,  0.9843,  0.8980, -0.0510, -0.9608, -1.0000, -1.0000,\n",
              "          -1.0000, -1.0000, -1.0000, -1.0000, -1.0000, -1.0000, -1.0000,\n",
              "          -0.9216, -0.9059,  0.0039,  0.0196, -0.9765, -1.0000, -1.0000],\n",
              "         [-1.0000, -1.0000, -1.0000, -1.0000, -1.0000, -1.0000,  0.0196,\n",
              "           0.9843,  0.9137, -0.5608, -1.0000, -1.0000, -1.0000, -1.0000,\n",
              "          -1.0000, -1.0000, -1.0000, -1.0000, -1.0000, -1.0000, -1.0000,\n",
              "          -1.0000, -1.0000, -1.0000, -1.0000, -1.0000, -1.0000, -1.0000],\n",
              "         [-1.0000, -1.0000, -1.0000, -1.0000, -1.0000, -1.0000, -1.0000,\n",
              "          -1.0000, -1.0000, -1.0000, -1.0000, -1.0000, -1.0000, -1.0000,\n",
              "          -1.0000, -1.0000, -1.0000, -1.0000, -1.0000, -1.0000, -1.0000,\n",
              "          -1.0000, -1.0000, -1.0000, -1.0000, -1.0000, -1.0000, -1.0000],\n",
              "         [-1.0000, -1.0000, -1.0000, -1.0000, -1.0000, -1.0000, -1.0000,\n",
              "          -1.0000, -1.0000, -1.0000, -1.0000, -1.0000, -1.0000, -1.0000,\n",
              "          -1.0000, -1.0000, -1.0000, -1.0000, -1.0000, -1.0000, -1.0000,\n",
              "          -1.0000, -1.0000, -1.0000, -1.0000, -1.0000, -1.0000, -1.0000],\n",
              "         [-1.0000, -1.0000, -1.0000, -1.0000, -1.0000, -1.0000, -1.0000,\n",
              "          -1.0000, -1.0000, -1.0000, -1.0000, -1.0000, -1.0000, -1.0000,\n",
              "          -1.0000, -1.0000, -1.0000, -1.0000, -1.0000, -1.0000, -1.0000,\n",
              "          -1.0000, -1.0000, -1.0000, -1.0000, -1.0000, -1.0000, -1.0000],\n",
              "         [-1.0000, -1.0000, -1.0000, -1.0000, -1.0000, -1.0000, -1.0000,\n",
              "          -1.0000, -1.0000, -1.0000, -1.0000, -1.0000, -1.0000, -1.0000,\n",
              "          -1.0000, -1.0000, -1.0000, -1.0000, -1.0000, -1.0000, -1.0000,\n",
              "          -1.0000, -1.0000, -1.0000, -1.0000, -1.0000, -1.0000, -1.0000]]])"
            ]
          },
          "execution_count": 7,
          "metadata": {},
          "output_type": "execute_result"
        }
      ],
      "source": [
        "image, label = mnist_trainset[0]\n",
        "image"
      ]
    },
    {
      "cell_type": "code",
      "execution_count": 5,
      "metadata": {
        "colab": {
          "base_uri": "https://localhost:8080/",
          "height": 806
        },
        "id": "0Y8JvH3XkqEu",
        "outputId": "fdb961fd-8241-4e18-8d38-ce961e94b323"
      },
      "outputs": [
        {
          "data": {
            "image/png": "[encoded data removed]",
            "text/plain": [
              "<Figure size 800x800 with 16 Axes>"
            ]
          },
          "metadata": {},
          "output_type": "display_data"
        }
      ],
      "source": [
        "visualize_dataset(mnist_trainset)"
      ]
    },
    {
      "cell_type": "markdown",
      "metadata": {
        "id": "piejF8RXkqEv"
      },
      "source": [
        "# DDIM"
      ]
    },
    {
      "cell_type": "code",
      "execution_count": 5,
      "metadata": {
        "id": "CodT6ntg5hiL"
      },
      "outputs": [],
      "source": [
        "T = 1000\n",
        "BATCH_SIZE = 64\n",
        "IMG_SIZE = 28\n",
        "\n",
        "betas = torch.linspace(1e-4, 0.02, T)\n",
        "alphas = 1. - betas\n",
        "alphas = torch.cumprod(alphas, dim=0)\n",
        "\n",
        "eta = 0.5\n",
        "sigmas = eta * torch.sqrt(1. - alphas).to(device)\n",
        "num_steps = 10"
      ]
    },
    {
      "cell_type": "markdown",
      "metadata": {
        "id": "wV6ETfDUkqEv"
      },
      "source": [
        "## Forward Diffusion"
      ]
    },
    {
      "cell_type": "code",
      "execution_count": 6,
      "metadata": {},
      "outputs": [],
      "source": [
        "train_loader = DataLoader(mnist_trainset, batch_size=BATCH_SIZE, shuffle=True)\n",
        "val_loader = DataLoader(mnist_valset, batch_size=BATCH_SIZE, shuffle=True)\n",
        "test_loader = DataLoader(mnist_testset, batch_size=BATCH_SIZE, shuffle=True)"
      ]
    },
    {
      "cell_type": "code",
      "execution_count": 7,
      "metadata": {
        "colab": {
          "base_uri": "https://localhost:8080/",
          "height": 124
        },
        "id": "qNvVUGWXkqEw",
        "outputId": "6115f3ae-f10c-443c-ef53-8d1e0f84f08f"
      },
      "outputs": [
        {
          "data": {
            "image/png": "[encoded data removed]",
            "text/plain": [
              "<Figure size 1500x1500 with 10 Axes>"
            ]
          },
          "metadata": {},
          "output_type": "display_data"
        }
      ],
      "source": [
        "sample_batch, _ = next(iter(train_loader))\n",
        "sample_image = sample_batch.to(device)\n",
        "visualize_diffusion_step(sample_batch, alphas, num_steps, BATCH_SIZE)"
      ]
    },
    {
      "cell_type": "markdown",
      "metadata": {
        "id": "d_7uoFbhkqEx"
      },
      "source": [
        "## Model UNet"
      ]
    },
    {
      "cell_type": "markdown",
      "metadata": {
        "id": "XtgcDWZokqEx"
      },
      "source": [
        "### Sinusoidale timestamp Embedding"
      ]
    },
    {
      "cell_type": "markdown",
      "metadata": {
        "id": "GwndhEGdkqEx"
      },
      "source": [
        "This part is a classic temporal embedding block which is very widespread and which allows us to add temporal information to our model, which is very important in diffusion models. It is used, for example, by transformers to know the position of a word in a sentence."
      ]
    },
    {
      "cell_type": "markdown",
      "metadata": {
        "id": "dHb5OO8akqEx"
      },
      "source": [
        "### Backward diffusion process with U-Net"
      ]
    },
    {
      "cell_type": "markdown",
      "metadata": {
        "id": "Y7yzDpV2kqEx"
      },
      "source": [
        "For backward diffusion, we'll use a U-Net architecture. The U-Net architecture is an iterative block that follows image downscaling and upscaling, training to learn noise from $x_{t}$ to $x_{t-1}$."
      ]
    },
    {
      "cell_type": "code",
      "execution_count": 8,
      "metadata": {
        "id": "OvrnSFf0kqEy"
      },
      "outputs": [
        {
          "data": {
            "text/plain": [
              "torch.Size([64, 1, 28, 28])"
            ]
          },
          "execution_count": 8,
          "metadata": {},
          "output_type": "execute_result"
        }
      ],
      "source": [
        "model = UNet()\n",
        "images = torch.randn(BATCH_SIZE, 1, 28, 28)\n",
        "timestep = torch.randint(0, T, (BATCH_SIZE,)).long()\n",
        "output = model(images, timestep)\n",
        "output.shape"
      ]
    },
    {
      "cell_type": "markdown",
      "metadata": {
        "id": "6q9VPT4bkqEy"
      },
      "source": [
        "### Training"
      ]
    },
    {
      "cell_type": "code",
      "execution_count": 9,
      "metadata": {},
      "outputs": [],
      "source": [
        "epoch = 1\n",
        "model = UNet().to(device)\n",
        "learning_rate = 1e-3\n",
        "optimizer = torch.optim.Adam(model.parameters(), lr=learning_rate)\n",
        "\n",
        "sample_plot_image(IMG_SIZE, T, alphas, sigmas, model, epoch)"
      ]
    },
    {
      "cell_type": "code",
      "execution_count": null,
      "metadata": {
        "colab": {
          "base_uri": "https://localhost:8080/",
          "height": 1000
        },
        "id": "b79h7EtHkqEy",
        "outputId": "7c384803-1da0-4fe6-def0-438ed9c1f63c"
      },
      "outputs": [],
      "source": [
        "epochs = 100\n",
        "learning_rate = 1e-3\n",
        "time_emb_dim = 32\n",
        "\n",
        "model = UNet().to(device)\n",
        "optimizer = torch.optim.Adam(model.parameters(), lr=learning_rate)\n",
        "\n",
        "for epoch in range(epochs):\n",
        "    model.train()\n",
        "    epoch_loss = 0\n",
        "    step = 0\n",
        "    for batch in tqdm(train_loader, desc=f\"Epoch {epoch + 1} - Training\"):\n",
        "        images, _ = batch\n",
        "        images = images.to(device)\n",
        "        \n",
        "        t = torch.randint(0, T, (BATCH_SIZE,), device=device).long()\n",
        "        #noise = torch.randn_like(images)\n",
        "        x_t, noise = q_sample(images, t, alphas, BATCH_SIZE)\n",
        "        noise_pred = model(x_t, t)\n",
        "        loss = loss_function(noise_pred, noise)\n",
        "        optimizer.zero_grad()\n",
        "        loss.backward()\n",
        "        optimizer.step()\n",
        "\n",
        "        epoch_loss += loss.item()\n",
        "\n",
        "    avg_train_loss = epoch_loss / len(mnist_trainset)\n",
        "    if epoch % 2 == 0 :\n",
        "        print(f\"Epoch {epoch + 1}, Average Training Loss: {avg_train_loss:.4f}\")\n",
        "        sample_plot_image(IMG_SIZE, T, alphas, sigmas, model, epoch)"
      ]
    },
    {
      "cell_type": "code",
      "execution_count": 10,
      "metadata": {},
      "outputs": [],
      "source": [
        "from ddim_v2 import DiffusionTrainer\n",
        "\n",
        "learning_rate = 1e-3\n",
        "optimizer = torch.optim.Adam(model.parameters(), lr=learning_rate)\n",
        "\n",
        "trainer = DiffusionTrainer(\n",
        "    model=model,\n",
        "    optimizer=optimizer,\n",
        "    train_loader=train_loader,\n",
        "    T=1000,\n",
        "    alphas=alphas,\n",
        "    sigmas=sigmas,\n",
        "    device=device,\n",
        "    img_size=28,\n",
        "    sample_interval=2\n",
        ")"
      ]
    },
    {
      "cell_type": "code",
      "execution_count": null,
      "metadata": {},
      "outputs": [],
      "source": [
        "trainer.train(epochs=10) "
      ]
    },
    {
      "cell_type": "markdown",
      "metadata": {},
      "source": [
        "## Backward Diffusion"
      ]
    },
    {
      "cell_type": "code",
      "execution_count": null,
      "metadata": {
        "id": "jZxs26xGrs7h"
      },
      "outputs": [],
      "source": [
        "@torch.no_grad()\n",
        "def ddim_sample(x_T, alphas, sigmas, model, T, num_steps=50):\n",
        "    device = x_T.device\n",
        "    alphas = alphas.to(device)\n",
        "    sigmas = sigmas.to(device)\n",
        "\n",
        "    x_t = x_T\n",
        "    steps = torch.linspace(T - 1, 0, num_steps, dtype=torch.long).to(device)\n",
        "\n",
        "    for t in steps:\n",
        "      t = t.view(-1)  # Transforme en tenseur 1D\n",
        "      alpha_t = alphas[t]\n",
        "      eps_theta = model(x_t, t)\n",
        "      x_t = p_sample(x_t, t, alphas, eps_theta, sigmas)\n",
        "\n",
        "\n",
        "    return x_t\n"
      ]
    }
  ],
  "metadata": {
    "accelerator": "GPU",
    "colab": {
      "gpuType": "T4",
      "provenance": []
    },
    "kernelspec": {
      "display_name": "venvPFE",
      "language": "python",
      "name": "python3"
    },
    "language_info": {
      "codemirror_mode": {
        "name": "ipython",
        "version": 3
      },
      "file_extension": ".py",
      "mimetype": "text/x-python",
      "name": "python",
      "nbconvert_exporter": "python",
      "pygments_lexer": "ipython3",
      "version": "3.12.3"
    }
  },
  "nbformat": 4,
  "nbformat_minor": 0
}
